{
 "cells": [
  {
   "cell_type": "code",
   "execution_count": 4,
   "metadata": {},
   "outputs": [],
   "source": [
    "import onetimepad"
   ]
  },
  {
   "cell_type": "code",
   "execution_count": 5,
   "metadata": {},
   "outputs": [
    {
     "name": "stdout",
     "output_type": "stream",
     "text": [
      "Requirement already satisfied: onetimepad in c:\\programdata\\anaconda3\\lib\\site-packages (1.4)\n"
     ]
    }
   ],
   "source": [
    "!pip install onetimepad"
   ]
  },
  {
   "cell_type": "code",
   "execution_count": 6,
   "metadata": {},
   "outputs": [],
   "source": [
    "from tkinter import*\n",
    "root=Tk()\n",
    "root.title('chryptography app')\n",
    "\n",
    "def encryption():\n",
    "    a=var1.get()\n",
    "    ct=onetimepad.encrypt(a,'python')\n",
    "    e2.delete(0,END)\n",
    "    e2.insert(END,ct)\n",
    "\n",
    "def dycryption():\n",
    "    a=var2.get()\n",
    "    ct=onetimepad.decrypt(a,'python')\n",
    "    e4.delete(0,END)\n",
    "    e4.insert(END,ct)\n",
    "    \n",
    "l1=Label(root,text='plain text')\n",
    "l1.grid(row=0,column=0)\n",
    "\n",
    "var1= StringVar()\n",
    "e1=Entry(root,textvariable=var1)\n",
    "e1.grid(row=0,column=1)\n",
    "\n",
    "l2=Label(root,text='encrypted text')\n",
    "l2.grid(row=1,column=0)\n",
    "\n",
    "e2=Entry(root)\n",
    "e2.grid(row=1,column=1)\n",
    "\n",
    "b1=Button(root,text='Encrypt',bg='blue',fg='yellow',command=encryption)\n",
    "b1.grid(row=2,column=1)\n",
    "\n",
    "l3=Label(root,text='encryted text')\n",
    "l3.grid(row=0,column=2)\n",
    "\n",
    "var2= StringVar()\n",
    "e3=Entry(root,textvariable=var2)\n",
    "e3.grid(row=0,column=3)\n",
    "\n",
    "l4=Label(root,text='dycrypted text')\n",
    "l4.grid(row=1,column=2)\n",
    "\n",
    "e4=Entry(root)\n",
    "e4.grid(row=1,column=3)\n",
    "\n",
    "b2=Button(root,text='dycrypt',command=dycryption)\n",
    "b2.grid(row=2,column=3)\n",
    "\n",
    "root.mainloop()"
   ]
  },
  {
   "cell_type": "code",
   "execution_count": null,
   "metadata": {},
   "outputs": [],
   "source": []
  },
  {
   "cell_type": "code",
   "execution_count": null,
   "metadata": {},
   "outputs": [],
   "source": []
  }
 ],
 "metadata": {
  "kernelspec": {
   "display_name": "Python 3",
   "language": "python",
   "name": "python3"
  },
  "language_info": {
   "codemirror_mode": {
    "name": "ipython",
    "version": 3
   },
   "file_extension": ".py",
   "mimetype": "text/x-python",
   "name": "python",
   "nbconvert_exporter": "python",
   "pygments_lexer": "ipython3",
   "version": "3.8.5"
  }
 },
 "nbformat": 4,
 "nbformat_minor": 4
}
