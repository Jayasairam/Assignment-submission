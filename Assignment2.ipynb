{
 "cells": [
  {
   "cell_type": "code",
   "execution_count": 3,
   "metadata": {
    "scrolled": true
   },
   "outputs": [
    {
     "name": "stdout",
     "output_type": "stream",
     "text": [
      "elements are [1, 2, 3, 4, 5, 4, 3, 2, 1]\n",
      "list after removig duplicates:  [1, 2, 3, 4, 5]\n"
     ]
    }
   ],
   "source": [
    "a=[1,2,3,4,5,4,3,2,1]\n",
    "print('elements are',a)\n",
    "temp=[]\n",
    "for i in a:\n",
    "    if i not in temp:\n",
    "        temp.append(i)\n",
    "a=temp\n",
    "print('list after removig duplicates: ',a)"
   ]
  },
  {
   "cell_type": "code",
   "execution_count": 4,
   "metadata": {},
   "outputs": [
    {
     "name": "stdout",
     "output_type": "stream",
     "text": [
      "[2, 4]\n"
     ]
    }
   ],
   "source": [
    "a=[1,2,3]\n",
    "b=[1,4,3]\n",
    "dif_a_b=list(set(a)-set(b))\n",
    "dif_b_a=list(set(b)-set(a))\n",
    "difference=dif_a_b+dif_b_a\n",
    "print(difference)"
   ]
  },
  {
   "cell_type": "code",
   "execution_count": 5,
   "metadata": {},
   "outputs": [
    {
     "name": "stdout",
     "output_type": "stream",
     "text": [
      "{'1': 2, '2': 1, '3': 2}\n"
     ]
    }
   ],
   "source": [
    "a=['1','2','3','1','3']\n",
    "frequency={}\n",
    "for i in a:\n",
    "    if i in frequency:\n",
    "        frequency[i]+=1\n",
    "    else:\n",
    "        frequency[i]=1\n",
    "print(frequency)"
   ]
  },
  {
   "cell_type": "code",
   "execution_count": 6,
   "metadata": {},
   "outputs": [
    {
     "name": "stdout",
     "output_type": "stream",
     "text": [
      "a-b:  ['two', 'three']\n",
      "b-a:  ['five', 'six']\n"
     ]
    }
   ],
   "source": [
    "a=['one','two','three']\n",
    "b=['one','five','six']\n",
    "c=[]\n",
    "d=[]\n",
    "for i in a:\n",
    "    if i not in b:\n",
    "        c.append(i)\n",
    "print('a-b: ',c)\n",
    "for j in b:\n",
    "    if j not in a:\n",
    "        d.append(j)\n",
    "print('b-a: ',d)"
   ]
  },
  {
   "cell_type": "code",
   "execution_count": 7,
   "metadata": {},
   "outputs": [
    {
     "name": "stdout",
     "output_type": "stream",
     "text": [
      "longest word is : hello\n",
      "its length is:  5\n"
     ]
    }
   ],
   "source": [
    "def long(a):\n",
    "    maxi=len(a[0])\n",
    "    temp=a[0]\n",
    "    for i in a:\n",
    "        if (len(i)>maxi):\n",
    "            maxi=len(i)\n",
    "            temp=i\n",
    "    print('longest word is :',temp)\n",
    "    print('its length is: ',maxi)\n",
    "a=['one','hi','hello']\n",
    "long(a)"
   ]
  },
  {
   "cell_type": "code",
   "execution_count": 8,
   "metadata": {},
   "outputs": [
    {
     "data": {
      "text/plain": [
       "{'one': 2, 'two': 1}"
      ]
     },
     "execution_count": 8,
     "metadata": {},
     "output_type": "execute_result"
    }
   ],
   "source": [
    "def count_of_occurence(a):\n",
    "    count=dict()\n",
    "    word=a.split()\n",
    "    for i in word:\n",
    "        if i in count:\n",
    "            count[i]+=1\n",
    "        else:\n",
    "            count[i]=1\n",
    "    return count\n",
    "count_of_occurence('one two one')"
   ]
  },
  {
   "cell_type": "code",
   "execution_count": 9,
   "metadata": {},
   "outputs": [
    {
     "name": "stdout",
     "output_type": "stream",
     "text": [
      "enter the string python\n",
      "no.of vowels are:  1\n"
     ]
    }
   ],
   "source": [
    "a=input('enter the string ')\n",
    "count=0\n",
    "for i in a:\n",
    "    if (i=='a' or i=='e' or i=='i' or i=='o'):\n",
    "        count+=1\n",
    "print('no.of vowels are: ',count)"
   ]
  },
  {
   "cell_type": "code",
   "execution_count": 10,
   "metadata": {},
   "outputs": [
    {
     "name": "stdout",
     "output_type": "stream",
     "text": [
      "enter the number5\n",
      "{1: 1, 2: 4, 3: 9, 4: 16}\n"
     ]
    }
   ],
   "source": [
    "a=int(input('enter the number'))\n",
    "d={}\n",
    "for i in range(1,a):\n",
    "    d[i]=i*i\n",
    "print(d)"
   ]
  },
  {
   "cell_type": "code",
   "execution_count": 11,
   "metadata": {},
   "outputs": [
    {
     "data": {
      "text/plain": [
       "dict_items([('a', 25), ('b', 35), ('c', 45)])"
      ]
     },
     "execution_count": 11,
     "metadata": {},
     "output_type": "execute_result"
    }
   ],
   "source": [
    "dic1={'a':5,'b':10,'c':15}\n",
    "dic2={'a':20,'b':25,'c':30}\n",
    "dic3={}\n",
    "for i,j in dic1.items():\n",
    "    for x,y in dic2.items():\n",
    "        if i==x:\n",
    "            dic3[i]=j+y\n",
    "dic3.items()"
   ]
  },
  {
   "cell_type": "code",
   "execution_count": 12,
   "metadata": {},
   "outputs": [
    {
     "name": "stdout",
     "output_type": "stream",
     "text": [
      "[1, 2, 3]\n"
     ]
    }
   ],
   "source": [
    "d={\"a\":1,\"b\":2,\"c\":3,\"d\":2,\"e\":1}\n",
    "unique_values=[]\n",
    "for i in d.values():\n",
    "    if i not in unique_values:\n",
    "        unique_values.append(i)\n",
    "print(unique_values)"
   ]
  }
 ],
 "metadata": {
  "kernelspec": {
   "display_name": "Python 3",
   "language": "python",
   "name": "python3"
  },
  "language_info": {
   "codemirror_mode": {
    "name": "ipython",
    "version": 3
   },
   "file_extension": ".py",
   "mimetype": "text/x-python",
   "name": "python",
   "nbconvert_exporter": "python",
   "pygments_lexer": "ipython3",
   "version": "3.8.5"
  }
 },
 "nbformat": 4,
 "nbformat_minor": 4
}
