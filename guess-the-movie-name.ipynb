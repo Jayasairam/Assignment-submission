{
 "cells": [
  {
   "cell_type": "code",
   "execution_count": null,
   "metadata": {
    "scrolled": true
   },
   "outputs": [],
   "source": [
    "import firebase_admin\n",
    "from firebase_admin import credentials\n",
    "file=open(r'C:\\Users\\jayas\\Downloads\\movie-name.json')\n",
    "cert=credentials.Certificate(file)\n",
    "firebase_admin.initialize_app(cert)\n",
    "print(\"working\")"
   ]
  },
  {
   "cell_type": "code",
   "execution_count": null,
   "metadata": {},
   "outputs": [],
   "source": [
    "db = firestore.client()\n",
    "doc_ref = db.collection(\"movies\").document(\"Bollywood\")\n",
    "data = {\"Name\":[\"war\",\"kgf\",\"3-idiot\",\"family-man\",\"dangal\"]\n",
    "       \"collection\":[400,500,200,100,600]}\n",
    "doc_ref.set(data)\n",
    "print(\"done\")"
   ]
  },
  {
   "cell_type": "code",
   "execution_count": null,
   "metadata": {},
   "outputs": [],
   "source": [
    "db = firestore.client()\n",
    "docs = db.collection(\"movies\").stream()\n",
    "for d in docs:\n",
    "    database = d.to_dict()"
   ]
  },
  {
   "cell_type": "code",
   "execution_count": null,
   "metadata": {},
   "outputs": [],
   "source": [
    "import random\n",
    "movie = database[\"Name\"]\n",
    "player = input(\"Write your Name: \")\n",
    "print(\"Guess the character: \")\n",
    "print(\"You have 10 chance to get the movie name: \")\n",
    "print(\"Best of luck!\",player)\n",
    "count = 10\n",
    "geuss= \"_\"\n",
    "word = random.choice(movie)\n",
    "while count>0:\n",
    "    fail = 0\n",
    "    for char in word:\\n\",\n",
    "    \"        if char in geuss:\\n\",\n",
    "    \"            print(char)\\n\",\n",
    "    \"        else:\\n\",\n",
    "    \"            print(\\\"_\\\")\\n\",\n",
    "    \"            fail+=1\\n\"\n",
    "    if fail==0:\\n\",\n",
    "    \"        print(\\\"Congratulation you won!!!\\\")\\n\",\n",
    "    \"        print(\\\"Movie Name was:\\\",word)\\n\",\n",
    "    \"        break\\n\",\n",
    "    \"        \\n\",\n",
    "    \"    g = input(\\\"Enter your character: \\\")\\n\",\n",
    "    \"    geuss = geuss+g\\n\",\n",
    "    \"    \\n\",\n",
    "    \"    if g not in word:\\n\",\n",
    "    \"        count = count-1\\n\",\n",
    "    \"        print(\\\"Wrong Answer:(\\\")\\n\",\n",
    "    \"\\n\",\n",
    "    \"        print(\\\"You have \\\",count,\\\"more geusses\\\")\\n\""
   ]
  }
 ],
 "metadata": {
  "kernelspec": {
   "display_name": "Python 3",
   "language": "python",
   "name": "python3"
  },
  "language_info": {
   "codemirror_mode": {
    "name": "ipython",
    "version": 3
   },
   "file_extension": ".py",
   "mimetype": "text/x-python",
   "name": "python",
   "nbconvert_exporter": "python",
   "pygments_lexer": "ipython3",
   "version": "3.8.5"
  }
 },
 "nbformat": 4,
 "nbformat_minor": 4
}
