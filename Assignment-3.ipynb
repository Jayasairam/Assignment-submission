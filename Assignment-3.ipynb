{
 "cells": [
  {
   "cell_type": "code",
   "execution_count": 10,
   "metadata": {},
   "outputs": [
    {
     "data": {
      "text/plain": [
       "55"
      ]
     },
     "execution_count": 10,
     "metadata": {},
     "output_type": "execute_result"
    }
   ],
   "source": [
    "def biggest(a,b,c):\n",
    "    if (a>b) and (a>c):\n",
    "        largest=a\n",
    "    elif (b>a) and (b>c):\n",
    "        largest=b\n",
    "    else:\n",
    "        largest=c\n",
    "    return largest\n",
    "biggest(4,55,6)"
   ]
  },
  {
   "cell_type": "code",
   "execution_count": 1,
   "metadata": {},
   "outputs": [
    {
     "name": "stdout",
     "output_type": "stream",
     "text": [
      "enter the string: radar\n"
     ]
    },
    {
     "data": {
      "text/plain": [
       "'entered string is palindrome'"
      ]
     },
     "execution_count": 1,
     "metadata": {},
     "output_type": "execute_result"
    }
   ],
   "source": [
    "def palindrome(a):\n",
    "    i=0\n",
    "    j=len(a)-1\n",
    "    while j>=i:\n",
    "        if a[i]==a[j]:\n",
    "            i+=1\n",
    "            j-=1\n",
    "            return 'entered string is palindrome'\n",
    "        else:\n",
    "            return 'entered string is not a palindrome'\n",
    "a=input(\"enter the string: \")\n",
    "palindrome(a)"
   ]
  },
  {
   "cell_type": "code",
   "execution_count": 23,
   "metadata": {},
   "outputs": [
    {
     "name": "stdout",
     "output_type": "stream",
     "text": [
      "enter the string: India\n",
      "lower cases are: 4\n",
      "capitals are:  1\n"
     ]
    }
   ],
   "source": [
    "def string(a):\n",
    "    smalls=0\n",
    "    capitals=0\n",
    "    for i in a:\n",
    "        if i.islower():\n",
    "            smalls+=1\n",
    "        elif (i.isupper()):\n",
    "            capitals+=1\n",
    "    print('lower cases are:',smalls)\n",
    "    print('capitals are: ',capitals)\n",
    "a=input('enter the string: ')\n",
    "string(a)"
   ]
  },
  {
   "cell_type": "code",
   "execution_count": 30,
   "metadata": {},
   "outputs": [
    {
     "name": "stdout",
     "output_type": "stream",
     "text": [
      "6\n"
     ]
    }
   ],
   "source": [
    "def add(a):\n",
    "    print(sum(a))\n",
    "a=[1,2,3]\n",
    "add(a)"
   ]
  },
  {
   "cell_type": "code",
   "execution_count": 32,
   "metadata": {},
   "outputs": [
    {
     "name": "stdout",
     "output_type": "stream",
     "text": [
      "the multiplication of numbers in a list is:  24\n"
     ]
    }
   ],
   "source": [
    "def mul(a):\n",
    "    temp=1\n",
    "    for i in a:\n",
    "        temp=temp*i\n",
    "    print('the multiplication of numbers in a list is: ',temp)\n",
    "a=[1,2,3,4]\n",
    "mul(a)"
   ]
  },
  {
   "cell_type": "code",
   "execution_count": 6,
   "metadata": {},
   "outputs": [
    {
     "name": "stdout",
     "output_type": "stream",
     "text": [
      "the uniq elements of the list is:  [10, 20, 30]\n"
     ]
    }
   ],
   "source": [
    "def uniq(a):\n",
    "    b=[]\n",
    "    for i in a:\n",
    "        if i not in b:\n",
    "            b.append(i)\n",
    "    print('the uniq elements of the list is: ',b)\n",
    "a=[10,20,30,20,10]\n",
    "uniq(a)"
   ]
  },
  {
   "cell_type": "code",
   "execution_count": null,
   "metadata": {},
   "outputs": [],
   "source": []
  }
 ],
 "metadata": {
  "kernelspec": {
   "display_name": "Python 3",
   "language": "python",
   "name": "python3"
  },
  "language_info": {
   "codemirror_mode": {
    "name": "ipython",
    "version": 3
   },
   "file_extension": ".py",
   "mimetype": "text/x-python",
   "name": "python",
   "nbconvert_exporter": "python",
   "pygments_lexer": "ipython3",
   "version": "3.8.5"
  }
 },
 "nbformat": 4,
 "nbformat_minor": 4
}
